{
  "nbformat": 4,
  "nbformat_minor": 0,
  "metadata": {
    "colab": {
      "name": "10 Minutes to Pandas.ipynb",
      "provenance": [],
      "authorship_tag": "ABX9TyOck+5yHfSJiJhP8ByAsh3z",
      "include_colab_link": true
    },
    "kernelspec": {
      "name": "python3",
      "display_name": "Python 3"
    },
    "language_info": {
      "name": "python"
    }
  },
  "cells": [
    {
      "cell_type": "markdown",
      "metadata": {
        "id": "view-in-github",
        "colab_type": "text"
      },
      "source": [
        "<a href=\"https://colab.research.google.com/github/rrodrigo11/PythonOOP/blob/master/pandas/10_Minutes_to_Pandas.ipynb\" target=\"_parent\"><img src=\"https://colab.research.google.com/assets/colab-badge.svg\" alt=\"Open In Colab\"/></a>"
      ]
    },
    {
      "cell_type": "code",
      "execution_count": 24,
      "metadata": {
        "id": "nn8efa7g08qV"
      },
      "outputs": [],
      "source": [
        "import pandas as pd\n",
        "import numpy as np\n"
      ]
    },
    {
      "cell_type": "code",
      "source": [
        "#Scalar value will duplicate until the index values are fullfilled\n",
        "print( pd.Series(5, index=['A','B','C','D']))\n",
        "print(pd.Series(np.random.randn(4), index=['A','B','C','D']))"
      ],
      "metadata": {
        "colab": {
          "base_uri": "https://localhost:8080/"
        },
        "id": "rJMsuLk11FG2",
        "outputId": "945b3071-f8cf-494b-cd37-3cdae3c97c6b"
      },
      "execution_count": 25,
      "outputs": [
        {
          "output_type": "stream",
          "name": "stdout",
          "text": [
            "A    5\n",
            "B    5\n",
            "C    5\n",
            "D    5\n",
            "dtype: int64\n",
            "A   -0.339720\n",
            "B   -0.119428\n",
            "C   -0.538424\n",
            "D   -1.005569\n",
            "dtype: float64\n"
          ]
        }
      ]
    },
    {
      "cell_type": "code",
      "source": [
        "#Basic Pandas.Series example\n",
        "s = pd.Series([1, 3, 5, np.nan, 6, 8])\n",
        "print(s)"
      ],
      "metadata": {
        "colab": {
          "base_uri": "https://localhost:8080/"
        },
        "id": "685-lsvo1G3J",
        "outputId": "c0e32543-c8c4-40f5-a59e-13342bb662da"
      },
      "execution_count": 26,
      "outputs": [
        {
          "output_type": "stream",
          "name": "stdout",
          "text": [
            "0    1.0\n",
            "1    3.0\n",
            "2    5.0\n",
            "3    NaN\n",
            "4    6.0\n",
            "5    8.0\n",
            "dtype: float64\n"
          ]
        }
      ]
    },
    {
      "cell_type": "code",
      "source": [
        "#Pandas.Series example created from Py.Dictionary, using index:value\n",
        "d = {\"b\": 1, \"a\": 0, \"c\": 2}\n",
        "print(pd.Series(d))\n",
        "print(pd.Series(d, index = ['d','c','a','b']))"
      ],
      "metadata": {
        "colab": {
          "base_uri": "https://localhost:8080/"
        },
        "id": "FfZuKm671HNx",
        "outputId": "e297038d-6523-4805-a4a2-c9913789ba9b"
      },
      "execution_count": 27,
      "outputs": [
        {
          "output_type": "stream",
          "name": "stdout",
          "text": [
            "b    1\n",
            "a    0\n",
            "c    2\n",
            "dtype: int64\n",
            "d    NaN\n",
            "c    2.0\n",
            "a    0.0\n",
            "b    1.0\n",
            "dtype: float64\n"
          ]
        }
      ]
    },
    {
      "cell_type": "code",
      "source": [
        "dates = pd.date_range(\"20220801\", periods=7)\n",
        "print(dates)"
      ],
      "metadata": {
        "colab": {
          "base_uri": "https://localhost:8080/"
        },
        "id": "PjpZUcMG1OUh",
        "outputId": "e4074f31-b422-4b96-8446-ceb58984ee48"
      },
      "execution_count": 28,
      "outputs": [
        {
          "output_type": "stream",
          "name": "stdout",
          "text": [
            "DatetimeIndex(['2022-08-01', '2022-08-02', '2022-08-03', '2022-08-04',\n",
            "               '2022-08-05', '2022-08-06', '2022-08-07'],\n",
            "              dtype='datetime64[ns]', freq='D')\n"
          ]
        }
      ]
    },
    {
      "cell_type": "code",
      "source": [
        "df = pd.DataFrame(np.random.randn(7,2), index=dates, columns=list(\"AB\"))\n",
        "print(df)"
      ],
      "metadata": {
        "colab": {
          "base_uri": "https://localhost:8080/"
        },
        "id": "yZHzRCjg1Qp9",
        "outputId": "e3d6452e-2ded-4353-9cd1-a5ff02345151"
      },
      "execution_count": 29,
      "outputs": [
        {
          "output_type": "stream",
          "name": "stdout",
          "text": [
            "                   A         B\n",
            "2022-08-01  0.361417 -0.689037\n",
            "2022-08-02  0.296788 -0.440572\n",
            "2022-08-03 -0.123407 -0.024023\n",
            "2022-08-04  0.610349  0.686127\n",
            "2022-08-05 -0.173310 -2.285559\n",
            "2022-08-06  1.641906  1.181904\n",
            "2022-08-07 -0.586304  0.787761\n"
          ]
        }
      ]
    },
    {
      "cell_type": "code",
      "source": [
        "#Creating a DataFrame from a Py.Dictionary\n",
        "df2 = pd.DataFrame(\n",
        "    {\n",
        "        \"A\": 1.0,\n",
        "        \"B\": pd.Timestamp(\"20130102\"),\n",
        "        \"C\": pd.Series(1, index=list(range(4)), dtype=\"float32\"),\n",
        "        \"D\": np.array([3] * 4, dtype=\"int32\"),\n",
        "        \"E\": pd.Categorical([\"test\", \"train\", \"test\", \"train\"]),\n",
        "        \"F\": \"foo\",\n",
        "    }\n",
        ")\n",
        "print(df2)"
      ],
      "metadata": {
        "colab": {
          "base_uri": "https://localhost:8080/"
        },
        "id": "FK_StciJ1TVa",
        "outputId": "4579a62b-aad3-4e79-f659-4e90419b2b70"
      },
      "execution_count": 30,
      "outputs": [
        {
          "output_type": "stream",
          "name": "stdout",
          "text": [
            "     A          B    C  D      E    F\n",
            "0  1.0 2013-01-02  1.0  3   test  foo\n",
            "1  1.0 2013-01-02  1.0  3  train  foo\n",
            "2  1.0 2013-01-02  1.0  3   test  foo\n",
            "3  1.0 2013-01-02  1.0  3  train  foo\n"
          ]
        }
      ]
    },
    {
      "cell_type": "code",
      "source": [
        "#My example, creating a dictionary of city sport teams\n",
        "# 2 list, part of main list. [index]:[value]\n",
        "cities = ['Colorado', 'Boston', 'Minnesota', 'Milwaukee', 'Seattle']\n",
        "teams = ['Rockies', 'Red Sox', 'Twins', 'Brewers', 'Mariners']\n",
        "dict_temp = {'City':cities, 'Team':teams}\n",
        "df3 = pd.DataFrame(dict_temp, columns=['Team', 'City'])\n",
        "print(df3)"
      ],
      "metadata": {
        "colab": {
          "base_uri": "https://localhost:8080/"
        },
        "id": "KXNWt-uY1XLh",
        "outputId": "e339a292-a368-44a8-f6e6-c771e230b7b0"
      },
      "execution_count": 31,
      "outputs": [
        {
          "output_type": "stream",
          "name": "stdout",
          "text": [
            "       Team       City\n",
            "0   Rockies   Colorado\n",
            "1   Red Sox     Boston\n",
            "2     Twins  Minnesota\n",
            "3   Brewers  Milwaukee\n",
            "4  Mariners    Seattle\n"
          ]
        }
      ]
    }
  ]
}