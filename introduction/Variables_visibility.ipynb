{
  "nbformat": 4,
  "nbformat_minor": 0,
  "metadata": {
    "colab": {
      "name": "Variables visibility.ipynb",
      "provenance": [],
      "authorship_tag": "ABX9TyPXvwpCwIrWOzZ+QIRBnnb6",
      "include_colab_link": true
    },
    "kernelspec": {
      "name": "python3",
      "display_name": "Python 3"
    },
    "language_info": {
      "name": "python"
    }
  },
  "cells": [
    {
      "cell_type": "markdown",
      "metadata": {
        "id": "view-in-github",
        "colab_type": "text"
      },
      "source": [
        "<a href=\"https://colab.research.google.com/github/rrodrigo11/PythonOOB/blob/master/introduction/Variables_visibility.ipynb\" target=\"_parent\"><img src=\"https://colab.research.google.com/assets/colab-badge.svg\" alt=\"Open In Colab\"/></a>"
      ]
    },
    {
      "cell_type": "markdown",
      "source": [
        ">> #Variables visibility\n",
        "* bare\n",
        "* protected\n",
        "* private"
      ],
      "metadata": {
        "id": "2IjBHm_8cCQg"
      }
    },
    {
      "cell_type": "code",
      "execution_count": 3,
      "metadata": {
        "colab": {
          "base_uri": "https://localhost:8080/"
        },
        "id": "6dMTQ27Gb--b",
        "outputId": "17a8d382-fd94-4a01-afaa-916f6d695e01"
      },
      "outputs": [
        {
          "output_type": "stream",
          "name": "stdout",
          "text": [
            "{'brand': 'Acer', '_model': 'Predator', '_Laptop__price': 5490}\n",
            "+ brand -> Acer\n",
            "+ _model -> Predator\n",
            "+ _Laptop__price -> 5490\n"
          ]
        }
      ],
      "source": [
        "class Laptop:\n",
        "    \n",
        "    \n",
        "    def __init__(self, brand, model, price):\n",
        "        self.brand = brand              #bare instance attribute\n",
        "        self._model = model             #protected attribute\n",
        "        self._Laptop__price = price     #private attribute\n",
        "        \n",
        "laptop = Laptop('Acer', 'Predator', 5490)\n",
        "print(laptop.__dict__)\n",
        "for attr, value in laptop.__dict__.items():\n",
        "    print(f'+ {attr} -> {value}')"
      ]
    },
    {
      "cell_type": "code",
      "source": [
        "class Laptop:\n",
        "\n",
        "    def __init__(self, brand, model, code, price, margin):\n",
        "        self.brand = brand\n",
        "        self._model = model\n",
        "        self._code = code\n",
        "        self.__price = price\n",
        "        self.__margin = margin\n",
        "    \n",
        "    def display_private_attrs(self):\n",
        "        for attr, value in self.__dict__.items():\n",
        "            print(f'{attr} -> {value}')\n",
        "            \n",
        "    def display_protected_attrs(self):\n",
        "        for value in self.__dict__:\n",
        "            if (value.startswith(\"_\")) and \\\n",
        "                not value.startswith(f'_{self.__class__.__name__}'):\n",
        "                print(value)\n",
        "        \n",
        "laptop = Laptop('Acer', 'Predator', 'AC-100', 5490, 0.2)\n",
        "laptop.display_private_attrs()\n",
        "print('#'*60)\n",
        "laptop.display_protected_attrs()"
      ],
      "metadata": {
        "colab": {
          "base_uri": "https://localhost:8080/"
        },
        "id": "ZE9BEZlucm63",
        "outputId": "2f36a768-b92b-4173-8d9c-b171adaa2c68"
      },
      "execution_count": 10,
      "outputs": [
        {
          "output_type": "stream",
          "name": "stdout",
          "text": [
            "brand -> Acer\n",
            "_model -> Predator\n",
            "_code -> AC-100\n",
            "_Laptop__price -> 5490\n",
            "_Laptop__margin -> 0.2\n",
            "############################################################\n",
            "_model\n",
            "_code\n"
          ]
        }
      ]
    }
  ]
}