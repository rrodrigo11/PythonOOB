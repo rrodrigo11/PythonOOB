{
  "nbformat": 4,
  "nbformat_minor": 0,
  "metadata": {
    "colab": {
      "name": "__init__().ipynb",
      "provenance": [],
      "authorship_tag": "ABX9TyMaEeDjWaja+m5XHq0nzxZ0",
      "include_colab_link": true
    },
    "kernelspec": {
      "name": "python3",
      "display_name": "Python 3"
    },
    "language_info": {
      "name": "python"
    }
  },
  "cells": [
    {
      "cell_type": "markdown",
      "metadata": {
        "id": "view-in-github",
        "colab_type": "text"
      },
      "source": [
        "<a href=\"https://colab.research.google.com/github/rrodrigo11/PythonOOB/blob/master/introduction/__init__().ipynb\" target=\"_parent\"><img src=\"https://colab.research.google.com/assets/colab-badge.svg\" alt=\"Open In Colab\"/></a>"
      ]
    },
    {
      "cell_type": "code",
      "execution_count": 1,
      "metadata": {
        "colab": {
          "base_uri": "https://localhost:8080/"
        },
        "id": "VFonKPTl05Kd",
        "outputId": "26b5e53e-55e0-4835-8d6b-1835950fd8ec"
      },
      "outputs": [
        {
          "output_type": "stream",
          "name": "stdout",
          "text": [
            "{'brand': 'Acer', 'model': 'Predator', 'price': 5490}\n"
          ]
        }
      ],
      "source": [
        "class Laptop:\n",
        "    def __init__(self, brand, model, price):\n",
        "        self.brand = brand\n",
        "        self.model = model\n",
        "        self.price = price\n",
        "    \n",
        "laptop = Laptop('Acer', 'Predator', 5490)\n",
        "\n",
        "print(laptop.__dict__)"
      ]
    },
    {
      "cell_type": "code",
      "source": [
        "class Laptop:\n",
        "\n",
        "    def __init__(self, brand, model, price):\n",
        "        self.brand = brand\n",
        "        self.model = model\n",
        "        self.price = price\n",
        "        \n",
        "    def display_attrs_with_values(self):\n",
        "        for key, value in self.__dict__.items():\n",
        "            print(f'{key} -> {value}')\n",
        "            \n",
        "laptop = Laptop('Dell', 'Inspiron', 3699)\n",
        "laptop.display_attrs_with_values()"
      ],
      "metadata": {
        "colab": {
          "base_uri": "https://localhost:8080/"
        },
        "id": "hVPkrDsh3ekW",
        "outputId": "80115a06-bd3d-42d7-9959-b86e1f396c79"
      },
      "execution_count": 2,
      "outputs": [
        {
          "output_type": "stream",
          "name": "stdout",
          "text": [
            "brand -> Dell\n",
            "model -> Inspiron\n",
            "price -> 3699\n"
          ]
        }
      ]
    },
    {
      "cell_type": "code",
      "source": [
        "class Bucket:\n",
        "    def __init__(self, **kwargs):\n",
        "        for key, value in kwargs.items():\n",
        "            setattr(self, key, value)\n",
        "        \n",
        "bucket = Bucket( apple=3.5, milk = 2.5, juice = 4.9, water = 2.5)\n",
        "\n",
        "print(bucket.__dict__)\n"
      ],
      "metadata": {
        "colab": {
          "base_uri": "https://localhost:8080/"
        },
        "id": "-4NHEsby7KxG",
        "outputId": "df55b07e-2c15-4bea-801f-769a0cb312e0"
      },
      "execution_count": 5,
      "outputs": [
        {
          "output_type": "stream",
          "name": "stdout",
          "text": [
            "{'apple': 3.5, 'milk': 2.5, 'juice': 4.9, 'water': 2.5}\n"
          ]
        }
      ]
    },
    {
      "cell_type": "code",
      "source": [
        "class Car:\n",
        "    def __init__(self, brand, model, price, type_of_car):\n",
        "        self.brand = brand\n",
        "        self.model = model\n",
        "        self.price = price\n",
        "        self.type_of_car = type_of_car if type_of_car else 'sedan'\n",
        "            \n",
        "car = Car('Opel', 'Insignia', 115000)\n",
        "\n",
        "print(car.__dict__)"
      ],
      "metadata": {
        "colab": {
          "base_uri": "https://localhost:8080/"
        },
        "id": "q7aFvkGX8lUm",
        "outputId": "99c1f5eb-2e97-4289-897e-a1b1c28ce040"
      },
      "execution_count": 6,
      "outputs": [
        {
          "output_type": "stream",
          "name": "stdout",
          "text": [
            "{'brand': 'Opel', 'model': 'Insignia', 'price': 115000, 'type_of_car': 'sedan'}\n"
          ]
        }
      ]
    },
    {
      "cell_type": "code",
      "source": [
        "class Laptop:\n",
        "    def __init__(self, brand, model, price):\n",
        "        self.brand = brand\n",
        "        self.model = model\n",
        "        if isinstance(price, (int, float)) and price > 0:\n",
        "            self.price = price\n",
        "        else:\n",
        "            raise TypeError(\n",
        "                'The price attribute must be a positive int or float')\n",
        "\n",
        "laptop_1 = Laptop('Acer', 'Predator', 5490)\n",
        "print(laptop_1.__dict__)\n",
        "\n",
        "try:\n",
        "    laptop = Laptop('Acer', 'Predator', '5900')\n",
        "except TypeError as ex:\n",
        "    print(ex)\n",
        "    "
      ],
      "metadata": {
        "colab": {
          "base_uri": "https://localhost:8080/"
        },
        "id": "mKSg7nse_EZb",
        "outputId": "de41ec38-3c00-4f0b-cb0e-795e3ec2c62d"
      },
      "execution_count": 11,
      "outputs": [
        {
          "output_type": "stream",
          "name": "stdout",
          "text": [
            "{'brand': 'Acer', 'model': 'Predator', 'price': 5490}\n",
            "The price attribute must be a positive int or float\n"
          ]
        }
      ]
    }
  ]
}