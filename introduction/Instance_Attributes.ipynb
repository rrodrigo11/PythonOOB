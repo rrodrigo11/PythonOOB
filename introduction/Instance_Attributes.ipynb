{
  "nbformat": 4,
  "nbformat_minor": 0,
  "metadata": {
    "colab": {
      "name": "Instance Attributes.ipynb",
      "provenance": [],
      "authorship_tag": "ABX9TyND8IkeOBir57Tg/kEnJr3I",
      "include_colab_link": true
    },
    "kernelspec": {
      "name": "python3",
      "display_name": "Python 3"
    },
    "language_info": {
      "name": "python"
    }
  },
  "cells": [
    {
      "cell_type": "markdown",
      "metadata": {
        "id": "view-in-github",
        "colab_type": "text"
      },
      "source": [
        "<a href=\"https://colab.research.google.com/github/rrodrigo11/PythonOOB/blob/master/introduction/Instance_Attributes.ipynb\" target=\"_parent\"><img src=\"https://colab.research.google.com/assets/colab-badge.svg\" alt=\"Open In Colab\"/></a>"
      ]
    },
    {
      "cell_type": "markdown",
      "source": [
        "#Instance Attributes\n",
        "\n",
        "* class definition\n",
        "* instancing class attributes\n",
        "* using class built-in methods\n",
        "* create list of instance objects, with dictionary\n",
        "* raise error"
      ],
      "metadata": {
        "id": "LaNrq1Rczwvf"
      }
    },
    {
      "cell_type": "code",
      "source": [
        "class Book:\n",
        "    language = 'ENG'\n",
        "    is_ebook = True\n",
        "    \n",
        "book = Book()\n",
        "print(book.__dict__)\n",
        "book.author = 'Dan Brown'\n",
        "book.title = 'Inferno'\n",
        "print(book.__dict__)"
      ],
      "metadata": {
        "colab": {
          "base_uri": "https://localhost:8080/"
        },
        "id": "8lZ5VdxjyWga",
        "outputId": "6a5ba0a9-b00a-4726-ce3b-2d13c8431636"
      },
      "execution_count": 3,
      "outputs": [
        {
          "output_type": "stream",
          "name": "stdout",
          "text": [
            "{}\n",
            "{'author': 'Dan Brown', 'title': 'Inferno'}\n"
          ]
        }
      ]
    },
    {
      "cell_type": "code",
      "source": [
        "class Book:\n",
        "    language = 'ENG'\n",
        "    is_ebook = True\n",
        "    \n",
        "book_1 = Book()\n",
        "book_2 = Book()\n",
        "\n",
        "book_1.author = 'Dan Brown'\n",
        "book_1.title = 'Inferno'\n",
        "\n",
        "book_2.author = 'Dan Brown'\n",
        "book_2.title = 'The Da Vinci Code'\n",
        "book_2.year_of_publishment = 2003\n",
        "\n",
        "print(book_1.__dict__)\n",
        "print(book_2.__dict__)"
      ],
      "metadata": {
        "colab": {
          "base_uri": "https://localhost:8080/"
        },
        "id": "XIpmqiFIygAx",
        "outputId": "e1d5baf0-0ca0-4f9b-df48-517cd6b97215"
      },
      "execution_count": 4,
      "outputs": [
        {
          "output_type": "stream",
          "name": "stdout",
          "text": [
            "{'author': 'Dan Brown', 'title': 'Inferno'}\n",
            "{'author': 'Dan Brown', 'title': 'The Da Vinci Code', 'year_of_publishment': 2003}\n"
          ]
        }
      ]
    },
    {
      "cell_type": "code",
      "source": [
        "class Book:\n",
        "    language = 'ENG'\n",
        "    is_ebook = True\n",
        "\n",
        "\n",
        "book_1 = Book()\n",
        "book_2 = Book()\n",
        "\n",
        "book_1.author = 'Dan Brown'\n",
        "book_1.title = 'Inferno'\n",
        "\n",
        "book_2.author = 'Dan Brown'\n",
        "book_2.title = 'The Da Vinci Code'\n",
        "book_2.year_of_publishment = 2003\n",
        "\n",
        "books = [book_1, book_2]\n",
        "\n",
        "for book in books:\n",
        "    for key, value in book.__dict__.items():\n",
        "        print(f'{key} -> {value}')\n",
        "    print('-' * 30)"
      ],
      "metadata": {
        "colab": {
          "base_uri": "https://localhost:8080/"
        },
        "id": "u-T14S-yy98V",
        "outputId": "8b58794a-b3ea-4818-caec-333782f43797"
      },
      "execution_count": 5,
      "outputs": [
        {
          "output_type": "stream",
          "name": "stdout",
          "text": [
            "author -> Dan Brown\n",
            "title -> Inferno\n",
            "------------------------------\n",
            "author -> Dan Brown\n",
            "title -> The Da Vinci Code\n",
            "year_of_publishment -> 2003\n",
            "------------------------------\n"
          ]
        }
      ]
    },
    {
      "cell_type": "code",
      "source": [
        "class Book:\n",
        "    language = 'ENG'\n",
        "    is_ebook = True\n",
        " \n",
        " \n",
        "books_data = [\n",
        "    {\n",
        "        'author': 'Dan Brown',\n",
        "        'title': 'Inferno',\n",
        "    },\n",
        "    {\n",
        "        'author': 'Dan Brown',\n",
        "        'title': 'The Da Vinci Code',\n",
        "        'year_of_publishment': 2003,\n",
        "    },\n",
        "]\n",
        " \n",
        "books = []\n",
        "for book_data in books_data:\n",
        "    book = Book()\n",
        "    for attr, value in book_data.items():\n",
        "        setattr(book, attr, value)\n",
        "    books.append(book)\n",
        " \n",
        "for book in books:\n",
        "    print(book.__dict__)"
      ],
      "metadata": {
        "colab": {
          "base_uri": "https://localhost:8080/"
        },
        "id": "TbBSx_WhzS2v",
        "outputId": "85057a35-2214-4069-c433-ab568e5fe2cb"
      },
      "execution_count": 6,
      "outputs": [
        {
          "output_type": "stream",
          "name": "stdout",
          "text": [
            "{'author': 'Dan Brown', 'title': 'Inferno'}\n",
            "{'author': 'Dan Brown', 'title': 'The Da Vinci Code', 'year_of_publishment': 2003}\n"
          ]
        }
      ]
    },
    {
      "cell_type": "markdown",
      "source": [
        ">>>#Raising error type object. TypeError"
      ],
      "metadata": {
        "id": "VE1SkjaGza30"
      }
    },
    {
      "cell_type": "code",
      "source": [
        "class Book:\n",
        "    language = 'ENG'\n",
        "    is_ebook = True\n",
        "\n",
        "    def set_title(self, value):\n",
        "        if not isinstance(value, str):\n",
        "            raise TypeError('The value of the title attribute must be of str '\n",
        "                'type.')\n",
        "        self.title = value\n",
        "book = Book()\n",
        "try:\n",
        "    book.set_title(False)\n",
        "except TypeError as ex:\n",
        "    print(ex)"
      ],
      "metadata": {
        "colab": {
          "base_uri": "https://localhost:8080/"
        },
        "id": "Ocf6Ig2BzhkP",
        "outputId": "6e2ca928-8327-48b1-a125-853593238150"
      },
      "execution_count": 8,
      "outputs": [
        {
          "output_type": "stream",
          "name": "stdout",
          "text": [
            "The value of the title attribute must be of str type.\n"
          ]
        }
      ]
    }
  ]
}