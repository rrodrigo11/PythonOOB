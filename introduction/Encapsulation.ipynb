{
  "nbformat": 4,
  "nbformat_minor": 0,
  "metadata": {
    "colab": {
      "name": "Encapsulation.ipynb",
      "provenance": [],
      "authorship_tag": "ABX9TyPi708Y921agKNDwpL7jqOF",
      "include_colab_link": true
    },
    "kernelspec": {
      "name": "python3",
      "display_name": "Python 3"
    },
    "language_info": {
      "name": "python"
    }
  },
  "cells": [
    {
      "cell_type": "markdown",
      "metadata": {
        "id": "view-in-github",
        "colab_type": "text"
      },
      "source": [
        "<a href=\"https://colab.research.google.com/github/rrodrigo11/PythonOOB/blob/master/introduction/Encapsulation.ipynb\" target=\"_parent\"><img src=\"https://colab.research.google.com/assets/colab-badge.svg\" alt=\"Open In Colab\"/></a>"
      ]
    },
    {
      "cell_type": "code",
      "execution_count": 4,
      "metadata": {
        "colab": {
          "base_uri": "https://localhost:8080/"
        },
        "id": "wctuR-WYW0Va",
        "outputId": "e87c2810-329e-4036-9445-a0e59b480f01"
      },
      "outputs": [
        {
          "output_type": "stream",
          "name": "stdout",
          "text": [
            "3499\n",
            "3499\n"
          ]
        }
      ],
      "source": [
        "class Laptop:\n",
        "  def __init__(self, price):\n",
        "     self.__price = price\n",
        "  \n",
        "  def get_price(self):\n",
        "     print(self.__price)\n",
        "\n",
        "  def set_price(self):\n",
        "     self.__price = 3999\n",
        "\n",
        "laptop = Laptop(3499)\n",
        "laptop.get_price()\n",
        "print(laptop._Laptop__price) # This is the way to overrule private scope"
      ]
    },
    {
      "cell_type": "markdown",
      "source": [
        "###In python there is no such thing as private, protected, public args. But following the convention of OOP the previous can be provided:\n",
        " - self.public = public\n",
        " - self._protected = protected\n",
        " - self.__private = private\n"
      ],
      "metadata": {
        "id": "ewpceadudRUA"
      }
    },
    {
      "cell_type": "code",
      "source": [
        "class Laptop:\n",
        "\n",
        "    def __init__(self, price):\n",
        "        self._price = price\n",
        "\n",
        "    def get_price(self):\n",
        "        return self._price\n",
        "        \n",
        "    def set_price(self, price):\n",
        "        if not (isinstance(price, (int, float))):\n",
        "            raise TypeError(\"The price attribute must be an int or a float type.\")\n",
        "        elif not (price > 0):\n",
        "            raise ValueError(\"The price attribute must be an positive int or float value. \")\n",
        "        else:\n",
        "            self.__price = price\n",
        "        \n",
        "laptop = Laptop(3499)\n",
        "print(laptop.get_price())\n",
        "\n",
        "try:#Catching Type error\n",
        "    laptop.set_price('-3000')\n",
        "except TypeError as error:\n",
        "    print(error)\n",
        "\n",
        "try: #Catching Value Error\n",
        "    laptop.set_price(-3000)\n",
        "except ValueError as error:\n",
        "    print(error)"
      ],
      "metadata": {
        "colab": {
          "base_uri": "https://localhost:8080/"
        },
        "id": "u8C7I8H-d10e",
        "outputId": "86aa2df7-cd18-42d8-98b3-326cf7d0a343"
      },
      "execution_count": 12,
      "outputs": [
        {
          "output_type": "stream",
          "name": "stdout",
          "text": [
            "3499\n",
            "The price attribute must be an int or a float type.\n",
            "The price attribute must be an positive int or float value. \n"
          ]
        }
      ]
    },
    {
      "cell_type": "markdown",
      "source": [
        ">By providing the setters & getters for protected attrs, its possible to implement instance attributes validation."
      ],
      "metadata": {
        "id": "VtDfiOJOwil1"
      }
    },
    {
      "cell_type": "code",
      "source": [
        "class Laptop:\n",
        "    \n",
        "    def __init__(self, price):\n",
        "        self.set_price(price)\n",
        "\n",
        "    def get_price(self):\n",
        "        return self._price\n",
        "\n",
        "    def set_price(self, value):\n",
        "\n",
        "        if not isinstance(value, (int, float)):\n",
        "            raise TypeError(\n",
        "                'The price attribute must be an int or float type.'\n",
        "            )\n",
        "        if not value > 0:\n",
        "            raise ValueError(\n",
        "                'The price attribute must be a positive int or '\n",
        "                'float value.'\n",
        "            )\n",
        "        self._price = value\n",
        "\n",
        "try:\n",
        "    laptop = Laptop(-3499)\n",
        "except ValueError as error:\n",
        "    print(error)"
      ],
      "metadata": {
        "colab": {
          "base_uri": "https://localhost:8080/"
        },
        "id": "4EwWkV5_wykg",
        "outputId": "37611e5e-29f0-4d3a-9899-03723ac7d241"
      },
      "execution_count": 1,
      "outputs": [
        {
          "output_type": "stream",
          "name": "stdout",
          "text": [
            "The price attribute must be a positive int or float value.\n"
          ]
        }
      ]
    },
    {
      "cell_type": "markdown",
      "source": [
        ">By having a combination of protected attrs, setters, getters & properties, encapsulation and abstraction can be achieved."
      ],
      "metadata": {
        "id": "pab3WEpYy21q"
      }
    },
    {
      "cell_type": "code",
      "source": [
        "class Person():\n",
        "    def __init__(self, first_name, last_name):\n",
        "        self._first_name = first_name\n",
        "        self._last_name = last_name\n",
        "        \n",
        "    def get_first_name(self):\n",
        "        return self._first_name\n",
        "        \n",
        "    def get_last_name(self):\n",
        "        return self._last_name\n",
        "        \n",
        "    @property\n",
        "    def first_name(self):\n",
        "        return self.get_first_name()\n",
        "        \n",
        "    @property\n",
        "    def last_name(self):\n",
        "        return self.get_last_name()\n",
        "        \n",
        "person = Person('John', 'Dow')\n",
        "print(person.first_name)\n",
        "print(person.last_name)"
      ],
      "metadata": {
        "colab": {
          "base_uri": "https://localhost:8080/"
        },
        "id": "UO34KFsxzHEU",
        "outputId": "acb6e346-3688-49ec-96cf-5499a662c924"
      },
      "execution_count": 2,
      "outputs": [
        {
          "output_type": "stream",
          "name": "stdout",
          "text": [
            "John\n"
          ]
        }
      ]
    }
  ]
}