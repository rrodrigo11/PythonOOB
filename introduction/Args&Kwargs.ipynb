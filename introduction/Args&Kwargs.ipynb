{
  "nbformat": 4,
  "nbformat_minor": 0,
  "metadata": {
    "colab": {
      "name": "Args&Kwargs.ipynb",
      "provenance": [],
      "authorship_tag": "ABX9TyOLErLuoNG26kgKwcljC68I",
      "include_colab_link": true
    },
    "kernelspec": {
      "name": "python3",
      "display_name": "Python 3"
    },
    "language_info": {
      "name": "python"
    }
  },
  "cells": [
    {
      "cell_type": "markdown",
      "metadata": {
        "id": "view-in-github",
        "colab_type": "text"
      },
      "source": [
        "<a href=\"https://colab.research.google.com/github/rrodrigo11/PythonOOB/blob/master/introduction/Args%26Kwargs.ipynb\" target=\"_parent\"><img src=\"https://colab.research.google.com/assets/colab-badge.svg\" alt=\"Open In Colab\"/></a>"
      ]
    },
    {
      "cell_type": "markdown",
      "source": [
        ">>>*ARGS and **KWARGS"
      ],
      "metadata": {
        "id": "eKb6K_4LRQ4d"
      }
    },
    {
      "cell_type": "markdown",
      "source": [
        ">#ARGS"
      ],
      "metadata": {
        "id": "3N4ZpnFjWhII"
      }
    },
    {
      "cell_type": "markdown",
      "source": [
        "##as *args type format, you can tell it acts similar as a List[]"
      ],
      "metadata": {
        "id": "NojD_bLdaoy8"
      }
    },
    {
      "cell_type": "code",
      "source": [
        "# *args as * regex expression, used for n>=0 argument(s) \n",
        "def stick(*args):\n",
        "    temp = []\n",
        "    for element in args:\n",
        "      # isinstance() builin method\n",
        "        if(isinstance(element, str)):\n",
        "          temp.append(element)\n",
        "  # join() iterable object needed, string type\n",
        "    print('#'.join(temp))\n",
        "            \n",
        "stick('sport','summer')\n",
        "stick(3,5,7)\n",
        "stick(False,'time', True, 'workout',[],'gym')"
      ],
      "metadata": {
        "colab": {
          "base_uri": "https://localhost:8080/"
        },
        "id": "e0Sag5QsRaj6",
        "outputId": "4056a4f9-c9ea-441d-cdf4-ea74859a730e"
      },
      "execution_count": 9,
      "outputs": [
        {
          "output_type": "stream",
          "name": "stdout",
          "text": [
            "sport#summer\n"
          ]
        }
      ]
    },
    {
      "cell_type": "markdown",
      "source": [
        ">#KWARGS"
      ],
      "metadata": {
        "id": "pRoTydjiXGut"
      }
    },
    {
      "cell_type": "markdown",
      "source": [
        "##as **kwargs type format, you can tell it acts similar as a Dictionary{}"
      ],
      "metadata": {
        "id": "Rpch8wpvaz-U"
      }
    },
    {
      "cell_type": "code",
      "source": [
        "# **kwargs as ** double regex expression, used for key>=0 and value>=0\n",
        "def display_info(company, **kwargs):\n",
        "    print(\"Company name: \" + company)\n",
        "    if('price' in kwargs):\n",
        "      # you can search items as key : value, Dictionary type\n",
        "      print(f\"Price: $ {kwargs['price']}\")\n",
        "\n",
        "display_info(company='CD Projekt', price = 100)"
      ],
      "metadata": {
        "colab": {
          "base_uri": "https://localhost:8080/"
        },
        "id": "T7CE8ZexXFA7",
        "outputId": "074fe32e-2750-4e60-e102-93f463f97d97"
      },
      "execution_count": 14,
      "outputs": [
        {
          "output_type": "stream",
          "name": "stdout",
          "text": [
            "Company name: CD Projekt\n",
            "Price : 100\n"
          ]
        }
      ]
    }
  ]
}