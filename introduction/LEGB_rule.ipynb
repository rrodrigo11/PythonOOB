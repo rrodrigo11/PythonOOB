{
  "nbformat": 4,
  "nbformat_minor": 0,
  "metadata": {
    "colab": {
      "name": "LEGB rule.ipynb",
      "provenance": [],
      "authorship_tag": "ABX9TyO4PlkTlIyZuAf/yLQD9ZkS",
      "include_colab_link": true
    },
    "kernelspec": {
      "name": "python3",
      "display_name": "Python 3"
    },
    "language_info": {
      "name": "python"
    }
  },
  "cells": [
    {
      "cell_type": "markdown",
      "metadata": {
        "id": "view-in-github",
        "colab_type": "text"
      },
      "source": [
        "<a href=\"https://colab.research.google.com/github/rrodrigo11/PythonOOB/blob/master/introduction/LEGB_rule.ipynb\" target=\"_parent\"><img src=\"https://colab.research.google.com/assets/colab-badge.svg\" alt=\"Open In Colab\"/></a>"
      ]
    },
    {
      "cell_type": "markdown",
      "source": [
        "###The LEGB rule"
      ],
      "metadata": {
        "id": "thZdTCc3IqKq"
      }
    },
    {
      "cell_type": "markdown",
      "source": [
        ">Attributes of Function"
      ],
      "metadata": {
        "id": "7JkBw64dMBcg"
      }
    },
    {
      "cell_type": "code",
      "execution_count": null,
      "metadata": {
        "id": "vpeeHDrOIhBI"
      },
      "outputs": [],
      "source": [
        "def stock_info(company, country, price, currency):\n",
        "    return f'Company: {company}\\nCountry: {country}\\nPrice: {currency} {price}'\n",
        "\n",
        "#printing the attributes of stock_info() \n",
        "print(stock_info.__code__.co_varnames)"
      ]
    },
    {
      "cell_type": "markdown",
      "source": [
        ">Documentation of function"
      ],
      "metadata": {
        "id": "kGMkrFhALTCU"
      }
    },
    {
      "cell_type": "code",
      "source": [
        "import builtins as bui\n",
        "help(bui.sum)\n",
        "print(bui.sum([-4,3,2]))"
      ],
      "metadata": {
        "colab": {
          "base_uri": "https://localhost:8080/"
        },
        "id": "XMzAynyLJBQ3",
        "outputId": "6ba48af4-e004-4d4e-8e8b-3f9691e5fcdc"
      },
      "execution_count": 8,
      "outputs": [
        {
          "output_type": "stream",
          "name": "stdout",
          "text": [
            "Help on built-in function sum in module builtins:\n",
            "\n",
            "sum(iterable, start=0, /)\n",
            "    Return the sum of a 'start' value (default: 0) plus an iterable of numbers\n",
            "    \n",
            "    When the iterable is empty, return the start value.\n",
            "    This function is intended specifically for use with numeric values and may\n",
            "    reject non-numeric types.\n",
            "\n",
            "1\n"
          ]
        }
      ]
    },
    {
      "cell_type": "markdown",
      "source": [
        ">Global variable editing"
      ],
      "metadata": {
        "id": "HjB1FBkOMNQh"
      }
    },
    {
      "cell_type": "code",
      "source": [
        "counter = 1\n",
        "\n",
        "def update_counter():\n",
        "    global counter\n",
        "    counter += 1\n",
        "    print(counter)\n",
        "    \n",
        "update_counter()"
      ],
      "metadata": {
        "colab": {
          "base_uri": "https://localhost:8080/"
        },
        "id": "b5xjpsR_MM1L",
        "outputId": "547a6d06-8cd8-4920-e807-1f6a12a2d1e5"
      },
      "execution_count": 11,
      "outputs": [
        {
          "output_type": "stream",
          "name": "stdout",
          "text": [
            "2\n"
          ]
        }
      ]
    },
    {
      "cell_type": "markdown",
      "source": [
        ">Global Statement for variable scope"
      ],
      "metadata": {
        "id": "HfoJ9rAGMMUo"
      }
    },
    {
      "cell_type": "code",
      "source": [
        "counter = 0\n",
        "dot_counter = ''\n",
        "\n",
        "def update_counter():\n",
        "    global counter\n",
        "    global dot_counter\n",
        "    counter += 1\n",
        "    dot_counter += '.'\n",
        "\n",
        "for x in range(40):\n",
        "  update_counter()\n",
        "  \n",
        "print(counter)\n",
        "print(dot_counter)"
      ],
      "metadata": {
        "colab": {
          "base_uri": "https://localhost:8080/"
        },
        "id": "WzIgcJ3SOFnX",
        "outputId": "9367d81f-dc87-4bed-970b-e3ed87cf8d48"
      },
      "execution_count": 13,
      "outputs": [
        {
          "output_type": "stream",
          "name": "stdout",
          "text": [
            "40\n",
            "........................................\n"
          ]
        }
      ]
    },
    {
      "cell_type": "markdown",
      "source": [
        ">Nonlocal Statement for variable scope"
      ],
      "metadata": {
        "id": "FULyg-ETQLtR"
      }
    },
    {
      "cell_type": "code",
      "source": [
        "def display_info(number_of_updates=10):\n",
        "    counter = 100\n",
        "    dot_counter = ''\n",
        "\n",
        "    def update_counter():\n",
        "        nonlocal counter\n",
        "        nonlocal dot_counter\n",
        "        counter += 1\n",
        "        dot_counter += '.'\n",
        "    \n",
        "    [update_counter() for _ in range(number_of_updates)]\n",
        "    print(counter)\n",
        "    print(dot_counter)\n",
        "\n",
        "display_info()"
      ],
      "metadata": {
        "colab": {
          "base_uri": "https://localhost:8080/"
        },
        "id": "YVkcQbS9QORu",
        "outputId": "bc7650d0-03b6-49cc-d3c8-4690e09e3100"
      },
      "execution_count": 18,
      "outputs": [
        {
          "output_type": "stream",
          "name": "stdout",
          "text": [
            "110\n",
            "..........\n"
          ]
        }
      ]
    }
  ]
}