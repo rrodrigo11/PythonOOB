{
  "nbformat": 4,
  "nbformat_minor": 0,
  "metadata": {
    "colab": {
      "name": "Instante&Class_Attributes",
      "provenance": [],
      "authorship_tag": "ABX9TyPpfR7fbClX//6qM6Cz8vcx",
      "include_colab_link": true
    },
    "kernelspec": {
      "name": "python3",
      "display_name": "Python 3"
    },
    "language_info": {
      "name": "python"
    }
  },
  "cells": [
    {
      "cell_type": "markdown",
      "metadata": {
        "id": "view-in-github",
        "colab_type": "text"
      },
      "source": [
        "<a href=\"https://colab.research.google.com/github/rrodrigo11/PythonOOB/blob/master/introduction/Instante%26Class_Attributes.ipynb\" target=\"_parent\"><img src=\"https://colab.research.google.com/assets/colab-badge.svg\" alt=\"Open In Colab\"/></a>"
      ]
    },
    {
      "cell_type": "markdown",
      "source": [
        ">#Instance Attributes"
      ],
      "metadata": {
        "id": "Mz0aK0GyyR13"
      }
    },
    {
      "cell_type": "code",
      "source": [
        "class Book:\n",
        "    language = 'ENG'\n",
        "    is_ebook = True\n",
        "    \n",
        "book_1 = Book()\n",
        "book_2 = Book()\n",
        "\n",
        "book_1.author = 'Dan Brown'\n",
        "book_1.title = 'Inferno'\n",
        "\n",
        "book_2.author = 'Dan Brown'\n",
        "book_2.title = 'The Da Vinci Code'\n",
        "book_2.year_of_publishment = 2003\n",
        "\n",
        "print(book_1.__dict__)\n",
        "print(book_2.__dict__)"
      ],
      "metadata": {
        "colab": {
          "base_uri": "https://localhost:8080/"
        },
        "id": "6-GStLYfyWSe",
        "outputId": "2ccde864-b8c3-45ba-e620-e44a8094ed2e"
      },
      "execution_count": 2,
      "outputs": [
        {
          "output_type": "stream",
          "name": "stdout",
          "text": [
            "{'author': 'Dan Brown', 'title': 'Inferno'}\n",
            "{'author': 'Dan Brown', 'title': 'The Da Vinci Code', 'year_of_publishment': 2003}\n"
          ]
        }
      ]
    },
    {
      "cell_type": "code",
      "source": [
        "class Book:\n",
        "    language = 'ENG'\n",
        "    is_ebook = True\n",
        "\n",
        "\n",
        "book_1 = Book()\n",
        "book_2 = Book()\n",
        "\n",
        "book_1.author = 'Dan Brown'\n",
        "book_1.title = 'Inferno'\n",
        "\n",
        "book_2.author = 'Dan Brown'\n",
        "book_2.title = 'The Da Vinci Code'\n",
        "book_2.year_of_publishment = 2003\n",
        "\n",
        "books = [book_1, book_2]\n",
        "\n",
        "for book in books:\n",
        "    for key, value in book.__dict__.items():\n",
        "        print(f'{key} -> {value}')\n",
        "    print('-' * 30)"
      ],
      "metadata": {
        "colab": {
          "base_uri": "https://localhost:8080/"
        },
        "id": "ZGyFyzCiylfM",
        "outputId": "cb149bd7-3acd-49c0-bbf4-f408a40a3f74"
      },
      "execution_count": 3,
      "outputs": [
        {
          "output_type": "stream",
          "name": "stdout",
          "text": [
            "author -> Dan Brown\n",
            "title -> Inferno\n",
            "------------------------------\n",
            "author -> Dan Brown\n",
            "title -> The Da Vinci Code\n",
            "year_of_publishment -> 2003\n",
            "------------------------------\n"
          ]
        }
      ]
    },
    {
      "cell_type": "code",
      "source": [
        "class Book:\n",
        "    language = 'ENG'\n",
        "    is_ebook = True\n",
        "\n",
        "\n",
        "books_data = [\n",
        "    {\n",
        "        'author': 'Dan Brown',\n",
        "        'title': 'Inferno',\n",
        "    },\n",
        "    {\n",
        "        'author': 'Dan Brown',\n",
        "        'title': 'The Da Vinci Code',\n",
        "        'year_of_publishment': 2003,\n",
        "    },\n",
        "]\n",
        "books = []\n",
        "for book_data in books_data:\n",
        "    book = Book()\n",
        "    for attr, value in book_data.items():\n",
        "        setattr(book, attr, value)\n",
        "    books.append(book)\n",
        " \n",
        "for book in books:\n",
        "    print(book.__dict__)\n",
        "    \n",
        "# Same Solution, but hardcoded instead of using object attr __dict__, itterative Dict and List\n",
        "#book_1 = Book()\n",
        "#book_1.author = books_data[0].get('author')\n",
        "#book_1.title = books_data[0].get('title')\n",
        "#print(book_1.__dict__)\n",
        "#book_2 = Book()\n",
        "#book_2.author = books_data[1].get('author')\n",
        "#book_2.title = books_data[1].get('title')\n",
        "#book_2.year_of_publishment = books_data[1].get('year_of_publishment')\n",
        "#print(book_2.__dict__)"
      ],
      "metadata": {
        "colab": {
          "base_uri": "https://localhost:8080/"
        },
        "id": "P_Vqe55fzeDI",
        "outputId": "b04f5b9e-d588-45d1-f51f-146e80d87db7"
      },
      "execution_count": 9,
      "outputs": [
        {
          "output_type": "stream",
          "name": "stdout",
          "text": [
            "{'author': 'Dan Brown', 'title': 'Inferno'}\n",
            "{'author': 'Dan Brown', 'title': 'The Da Vinci Code', 'year_of_publishment': 2003}\n"
          ]
        }
      ]
    }
  ]
}